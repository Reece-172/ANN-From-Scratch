{
 "cells": [
  {
   "cell_type": "code",
   "execution_count": 34,
   "metadata": {},
   "outputs": [],
   "source": [
    "import numpy as np\n",
    "import pandas as pd\n",
    "import matplotlib.pyplot as plt"
   ]
  },
  {
   "cell_type": "code",
   "execution_count": 41,
   "metadata": {},
   "outputs": [
    {
     "name": "stdout",
     "output_type": "stream",
     "text": [
      "(400,)\n"
     ]
    }
   ],
   "source": [
    "raw_data = np.loadtxt(\"inputs.txt\")\n",
    "raw_data_labels = np.loadtxt(\"labels.txt\")\n",
    "#print(raw_data.size)\n",
    "\n",
    "#code to shuffle 2 arrays, and keep corresponding elements\n",
    "randomize = np.arange(len(raw_data_labels)) \n",
    "np.random.shuffle(randomize) #creates a randomized sequence to be used as an index for the two arrays to shuffle them (https://www.delftstack.com/howto/numpy/python-numpy-shuffle-two-arrays/)\n",
    "\n",
    "raw_data = raw_data[randomize]\n",
    "raw_data_labels = raw_data_labels[randomize]\n",
    "\n",
    "# print(raw_data)\n",
    "# print(raw_data_labels)\n",
    "\n",
    "#split into training, validation, testing\n",
    "training_data = raw_data[:1200] \n",
    "training_data_labels = raw_data_labels[:1200] \n",
    "\n",
    "validation_data = raw_data[1200:1600] #note, includes start index, excludes end index\n",
    "validation_data_labels = raw_data_labels[1200:1600]\n",
    "\n",
    "testing_data = raw_data[1600:2000]\n",
    "testing_data_labels = raw_data_labels[1600:2000]\n",
    "\n",
    "print(validation_data_labels.shape)\n",
    "\n",
    "\n",
    "\n",
    "\n"
   ]
  },
  {
   "cell_type": "code",
   "execution_count": null,
   "metadata": {},
   "outputs": [],
   "source": []
  }
 ],
 "metadata": {
  "interpreter": {
   "hash": "fe92ade69d83066448b50cb9da733def79cf0a2a11147297fe11eaed3690119e"
  },
  "kernelspec": {
   "display_name": "Python 3.10.3 64-bit",
   "language": "python",
   "name": "python3"
  },
  "language_info": {
   "codemirror_mode": {
    "name": "ipython",
    "version": 3
   },
   "file_extension": ".py",
   "mimetype": "text/x-python",
   "name": "python",
   "nbconvert_exporter": "python",
   "pygments_lexer": "ipython3",
   "version": "3.10.3"
  },
  "orig_nbformat": 4
 },
 "nbformat": 4,
 "nbformat_minor": 2
}
